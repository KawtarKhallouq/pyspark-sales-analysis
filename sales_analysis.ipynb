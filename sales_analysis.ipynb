{
 "cells": [
  {
   "cell_type": "markdown",
   "metadata": {},
   "source": [
    "# 1: Set Up Your Environment\n",
    "\n",
    "## 1.Install Docker: Make sure Docker is installed and running on your machine.\n",
    "\n",
    "## 2.Set Up Docker Compose for PySpark:\n",
    "    In the same folder as your CSV file, create a docker-compose.yml file\n",
    "## 3.Start Docker\n",
    "Run the command `docker-compose up` to start the Docker container."
   ]
  },
  {
   "cell_type": "markdown",
   "metadata": {},
   "source": [
    "# 2:  PySpark Code\n"
   ]
  },
  {
   "cell_type": "code",
   "execution_count": 1,
   "metadata": {},
   "outputs": [],
   "source": [
    "#Import Libraries\n",
    "from pyspark.sql import SparkSession\n",
    "from pyspark.sql.functions import col, sum, to_date, month, desc\n",
    "from pyspark.sql import functions as F\n",
    "from pyspark.sql.window import Window\n"
   ]
  },
  {
   "cell_type": "code",
   "execution_count": 2,
   "metadata": {},
   "outputs": [],
   "source": [
    "#Initialize Spark Session\n",
    "spark = SparkSession.builder.appName(\"SalesAnalysis\").getOrCreate()\n",
    "spark.sparkContext.setLogLevel(\"ERROR\")\n"
   ]
  },
  {
   "cell_type": "code",
   "execution_count": 3,
   "metadata": {},
   "outputs": [],
   "source": [
    "#Load the CSV File\n",
    "file_path = \"sales_data.csv\"  \n",
    "df = spark.read.option(\"header\", \"true\").option(\"inferSchema\", \"true\").csv(file_path)\n"
   ]
  },
  {
   "cell_type": "code",
   "execution_count": 4,
   "metadata": {},
   "outputs": [
    {
     "name": "stdout",
     "output_type": "stream",
     "text": [
      "+--------------+---------+----------+----------+------+-----------+\n",
      "|transaction_id|client_id|product_id|      date|amount|   category|\n",
      "+--------------+---------+----------+----------+------+-----------+\n",
      "|             1|      101|      P001|2023-01-15|  NULL|Electronics|\n",
      "|             2|      102|      P002|2023-02-20|    80|   Clothing|\n",
      "|             3|      103|      P003|2023-03-15|   230|Electronics|\n",
      "|             4|      101|      P001|2023-04-10|    75|Electronics|\n",
      "|             5|      104|      P002|2023-05-25|   180|   Clothing|\n",
      "+--------------+---------+----------+----------+------+-----------+\n",
      "only showing top 5 rows\n",
      "\n",
      "root\n",
      " |-- transaction_id: integer (nullable = true)\n",
      " |-- client_id: integer (nullable = true)\n",
      " |-- product_id: string (nullable = true)\n",
      " |-- date: date (nullable = true)\n",
      " |-- amount: integer (nullable = true)\n",
      " |-- category: string (nullable = true)\n",
      "\n",
      "Total Rows: 17\n"
     ]
    }
   ],
   "source": [
    "#Preview the Data\n",
    "df.show(5)\n",
    "df.printSchema()\n",
    "print(f\"Total Rows: {df.count()}\")\n"
   ]
  },
  {
   "cell_type": "markdown",
   "metadata": {},
   "source": [
    "# 3: Data Cleaning and Filtering"
   ]
  },
  {
   "cell_type": "code",
   "execution_count": 5,
   "metadata": {},
   "outputs": [],
   "source": [
    "#Filter Transactions with Amount > 100\n",
    "filtered_df = df.filter(col(\"amount\") > 100)\n"
   ]
  },
  {
   "cell_type": "code",
   "execution_count": 6,
   "metadata": {},
   "outputs": [],
   "source": [
    "#Replace Null Values in amount and category Columns\n",
    "\n",
    "cleaned_df = df.fillna({\"amount\": 0, \"category\": \"Unknown\"})\n"
   ]
  },
  {
   "cell_type": "code",
   "execution_count": 7,
   "metadata": {},
   "outputs": [],
   "source": [
    "#Convert date Column to Date Format\n",
    "date_df = cleaned_df.withColumn(\"date\", to_date(col(\"date\"), \"yyyy-MM-dd\"))\n"
   ]
  },
  {
   "cell_type": "markdown",
   "metadata": {},
   "source": [
    "# 4: Perform Analysis"
   ]
  },
  {
   "cell_type": "code",
   "execution_count": 8,
   "metadata": {},
   "outputs": [
    {
     "name": "stdout",
     "output_type": "stream",
     "text": [
      "Total Sales: 2080\n"
     ]
    }
   ],
   "source": [
    "#Calculate Total Sales\n",
    "total_sales = date_df.agg(sum(\"amount\")).first()[0]\n",
    "print(f\"Total Sales: {total_sales}\")\n"
   ]
  },
  {
   "cell_type": "code",
   "execution_count": 9,
   "metadata": {},
   "outputs": [
    {
     "name": "stdout",
     "output_type": "stream",
     "text": [
      "+-----------+-----------+\n",
      "|   category|total_sales|\n",
      "+-----------+-----------+\n",
      "|Electronics|       1190|\n",
      "|   Clothing|        450|\n",
      "|    Unknown|        390|\n",
      "|Accessories|         50|\n",
      "+-----------+-----------+\n",
      "\n"
     ]
    }
   ],
   "source": [
    "#Total Sales by Category\n",
    "sales_by_category = date_df.groupBy(\"category\").agg(sum(\"amount\").alias(\"total_sales\"))\n",
    "sales_by_category.show()\n"
   ]
  },
  {
   "cell_type": "code",
   "execution_count": 10,
   "metadata": {},
   "outputs": [
    {
     "name": "stdout",
     "output_type": "stream",
     "text": [
      "+-----+-------------+\n",
      "|month|monthly_sales|\n",
      "+-----+-------------+\n",
      "|   12|          220|\n",
      "|    1|          140|\n",
      "|    6|           50|\n",
      "|    3|          480|\n",
      "|    5|          370|\n",
      "|    9|          200|\n",
      "|    4|          160|\n",
      "|    8|           90|\n",
      "|    7|          120|\n",
      "|   10|           70|\n",
      "|   11|            0|\n",
      "|    2|          180|\n",
      "+-----+-------------+\n",
      "\n"
     ]
    }
   ],
   "source": [
    "#Sales by Month\n",
    "sales_by_month = date_df.withColumn(\"month\", month(col(\"date\"))) \\\n",
    "    .groupBy(\"month\").agg(sum(\"amount\").alias(\"monthly_sales\"))\n",
    "sales_by_month.show()\n"
   ]
  },
  {
   "cell_type": "markdown",
   "metadata": {},
   "source": [
    "# 5: Identify Top-Selling Products"
   ]
  },
  {
   "cell_type": "code",
   "execution_count": 11,
   "metadata": {},
   "outputs": [
    {
     "name": "stdout",
     "output_type": "stream",
     "text": [
      "+----------+-----------+\n",
      "|product_id|total_sales|\n",
      "+----------+-----------+\n",
      "|      P003|        900|\n",
      "|      P002|        640|\n",
      "|      P001|        490|\n",
      "|      P004|         50|\n",
      "+----------+-----------+\n",
      "\n"
     ]
    }
   ],
   "source": [
    "#Top 5 Products by Sales Amount\n",
    "top_products = date_df.groupBy(\"product_id\").agg(sum(\"amount\").alias(\"total_sales\")) \\\n",
    "    .orderBy(desc(\"total_sales\")).limit(5)\n",
    "top_products.show()\n"
   ]
  },
  {
   "cell_type": "code",
   "execution_count": 12,
   "metadata": {},
   "outputs": [
    {
     "name": "stdout",
     "output_type": "stream",
     "text": [
      "+-----------+----------+-----------+----+\n",
      "|   category|product_id|total_sales|rank|\n",
      "+-----------+----------+-----------+----+\n",
      "|Accessories|      P004|         50|   1|\n",
      "|   Clothing|      P002|        450|   1|\n",
      "|Electronics|      P003|        700|   1|\n",
      "|    Unknown|      P003|        200|   1|\n",
      "+-----------+----------+-----------+----+\n",
      "\n"
     ]
    }
   ],
   "source": [
    "#Top Product per Category\n",
    "window_spec = Window.partitionBy(\"category\").orderBy(desc(\"total_sales\"))\n",
    "top_product_by_category = date_df.groupBy(\"category\", \"product_id\") \\\n",
    "    .agg(sum(\"amount\").alias(\"total_sales\")) \\\n",
    "    .withColumn(\"rank\", F.rank().over(window_spec)) \\\n",
    "    .filter(col(\"rank\") == 1)\n",
    "top_product_by_category.show()\n"
   ]
  },
  {
   "cell_type": "code",
   "execution_count": null,
   "metadata": {},
   "outputs": [],
   "source": []
  }
 ],
 "metadata": {
  "kernelspec": {
   "display_name": "Python 3",
   "language": "python",
   "name": "python3"
  },
  "language_info": {
   "codemirror_mode": {
    "name": "ipython",
    "version": 3
   },
   "file_extension": ".py",
   "mimetype": "text/x-python",
   "name": "python",
   "nbconvert_exporter": "python",
   "pygments_lexer": "ipython3",
   "version": "3.12.3"
  },
  "orig_nbformat": 4
 },
 "nbformat": 4,
 "nbformat_minor": 2
}
